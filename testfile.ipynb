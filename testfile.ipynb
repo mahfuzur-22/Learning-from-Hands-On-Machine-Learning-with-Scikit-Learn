{
 "cells": [
  {
   "cell_type": "code",
   "execution_count": 4,
   "metadata": {},
   "outputs": [
    {
     "name": "stdout",
     "output_type": "stream",
     "text": [
      "Test Indices: [16 97 64 83 61  0 46 36 93 41 33 21 53 60 59 10  4  8 25 37]\n",
      "Train Set:\n",
      "    feature1  feature2\n",
      "98        98       198\n",
      "95        95       195\n",
      "12        12       112\n",
      "65        65       165\n",
      "43        43       143\n",
      "..       ...       ...\n",
      "76        76       176\n",
      "69        69       169\n",
      "73        73       173\n",
      "80        80       180\n",
      "9          9       109\n",
      "\n",
      "[80 rows x 2 columns]\n",
      "\n",
      "Test Set:\n",
      "    feature1  feature2\n",
      "16        16       116\n",
      "97        97       197\n",
      "64        64       164\n",
      "83        83       183\n",
      "61        61       161\n",
      "0          0       100\n",
      "46        46       146\n",
      "36        36       136\n",
      "93        93       193\n",
      "41        41       141\n",
      "33        33       133\n",
      "21        21       121\n",
      "53        53       153\n",
      "60        60       160\n",
      "59        59       159\n",
      "10        10       110\n",
      "4          4       104\n",
      "8          8       108\n",
      "25        25       125\n",
      "37        37       137\n"
     ]
    }
   ],
   "source": [
    "import numpy as np\n",
    "import pandas as pd\n",
    "\n",
    "def shuffle_and_split_data(data, test_ratio):\n",
    "    shuffled_indices = np.random.permutation(len(data))\n",
    "    test_set_size = int(len(data) * test_ratio)\n",
    "    test_indices = shuffled_indices[:test_set_size]\n",
    "    train_indices = shuffled_indices[test_set_size:]\n",
    "    \n",
    "    # Print test_indices for verification\n",
    "    print(\"Test Indices:\", test_indices)\n",
    "    \n",
    "    return data.iloc[train_indices], data.iloc[test_indices]\n",
    "\n",
    "# Example data\n",
    "housing = pd.DataFrame({'feature1': range(100),'feature2': range(100, 200)})\n",
    "\n",
    "# Splitting the data\n",
    "train_set, test_set = shuffle_and_split_data(housing, 0.2)\n",
    "\n",
    "# Printing the result\n",
    "print(\"Train Set:\")\n",
    "print(train_set)\n",
    "print(\"\\nTest Set:\")\n",
    "print(test_set)\n"
   ]
  },
  {
   "cell_type": "code",
   "execution_count": null,
   "metadata": {},
   "outputs": [],
   "source": [
    "import pandas as pd\n",
    "import numpy as np\n",
    "def tra_test(dt, rat)\n",
    "    sample_indices=np.random.permutation(len(dt))\n",
    "    test_sz_sample= int (len(sample_indices)*rat)\n",
    "    train_sz= sample_indices[:test_sz_sample]\n",
    "    test_sz= sample_indices[test_sz_sample:]\n",
    "    \n",
    "    return dt.iloc[train_sz], dt.iloc[test_sz]\n",
    "\n",
    "\n",
    "\n",
    "hs= pd.DataFrame({'feature1': range(100), 'feature2': range(100, 200)})\n",
    "trr, tees= tra_test(hs, 0.2)\n",
    "\n",
    "print(\"The trainig set is:\", trr)\n",
    "print(trr)\n"
   ]
  }
 ],
 "metadata": {
  "kernelspec": {
   "display_name": "base",
   "language": "python",
   "name": "python3"
  },
  "language_info": {
   "codemirror_mode": {
    "name": "ipython",
    "version": 3
   },
   "file_extension": ".py",
   "mimetype": "text/x-python",
   "name": "python",
   "nbconvert_exporter": "python",
   "pygments_lexer": "ipython3",
   "version": "3.11.5"
  }
 },
 "nbformat": 4,
 "nbformat_minor": 2
}
