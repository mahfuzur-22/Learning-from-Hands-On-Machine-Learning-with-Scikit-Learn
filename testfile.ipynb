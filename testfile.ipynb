{
 "cells": [
  {
   "cell_type": "code",
   "execution_count": null,
   "metadata": {},
   "outputs": [],
   "source": [
    "import numpy as np\n",
    "import pandas as pd\n",
    "\n",
    "def shuffle_and_split_data(data, test_ratio):\n",
    "    shuffled_indices = np.random.permutation(len(data))\n",
    "    test_set_size = int(len(data) * test_ratio)\n",
    "    test_indices = shuffled_indices[:test_set_size]\n",
    "    train_indices = shuffled_indices[test_set_size:]\n",
    "    \n",
    "    # Print test_indices for verification\n",
    "    print(\"Test Indices:\", test_indices)\n",
    "    \n",
    "    return data.iloc[train_indices], data.iloc[test_indices]\n",
    "\n",
    "# Example data\n",
    "housing = pd.DataFrame({\n",
    "    'feature1': range(100),\n",
    "    'feature2': range(100, 200)\n",
    "})\n",
    "\n",
    "# Splitting the data\n",
    "train_set, test_set = shuffle_and_split_data(housing, 0.2)\n",
    "\n",
    "# Printing the result\n",
    "print(\"Train Set:\")\n",
    "print(train_set)\n",
    "print(\"\\nTest Set:\")\n",
    "print(test_set)\n"
   ]
  }
 ],
 "metadata": {
  "language_info": {
   "name": "python"
  }
 },
 "nbformat": 4,
 "nbformat_minor": 2
}
